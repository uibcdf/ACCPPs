{
 "cells": [
  {
   "cell_type": "code",
   "execution_count": 1,
   "id": "4130fb1a-a059-41a2-84c5-6f3cce80fd12",
   "metadata": {},
   "outputs": [],
   "source": [
    "import accpps"
   ]
  },
  {
   "cell_type": "code",
   "execution_count": 2,
   "id": "805d40fe-d14c-4682-930b-dff32a189d13",
   "metadata": {},
   "outputs": [],
   "source": [
    "sequence = \"ACDEFGHIKLMNPQRSTVWY\""
   ]
  },
  {
   "cell_type": "code",
   "execution_count": 3,
   "id": "62de4b89-d66e-47a1-a16c-0ff573859bc2",
   "metadata": {},
   "outputs": [],
   "source": [
    "ff = accpps.get_features(sequence)"
   ]
  },
  {
   "cell_type": "code",
   "execution_count": 5,
   "id": "2c4dbcc0-f4a2-417a-ae99-5553c9e52a5b",
   "metadata": {},
   "outputs": [
    {
     "data": {
      "text/plain": [
       "11097"
      ]
     },
     "execution_count": 5,
     "metadata": {},
     "output_type": "execute_result"
    }
   ],
   "source": [
    "len(ff)"
   ]
  },
  {
   "cell_type": "code",
   "execution_count": null,
   "id": "85e702d3-2797-4b6c-934b-e6f672ce427b",
   "metadata": {},
   "outputs": [],
   "source": []
  }
 ],
 "metadata": {
  "kernelspec": {
   "display_name": "Python 3 (ipykernel)",
   "language": "python",
   "name": "python3"
  },
  "language_info": {
   "codemirror_mode": {
    "name": "ipython",
    "version": 3
   },
   "file_extension": ".py",
   "mimetype": "text/x-python",
   "name": "python",
   "nbconvert_exporter": "python",
   "pygments_lexer": "ipython3",
   "version": "3.12.8"
  }
 },
 "nbformat": 4,
 "nbformat_minor": 5
}
