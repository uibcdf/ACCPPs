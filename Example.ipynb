{
 "cells": [
  {
   "cell_type": "markdown",
   "id": "063a2b49-f590-4ff4-b442-de132590b7a7",
   "metadata": {},
   "source": [
    "# ACCPPs\n",
    "\n",
    "La librería `accpps` contiene las herramientas necesarias para abordar el problema: **¿Podemos predecir péptidos anti-cancerígenos penetradores de membrana a partir de sus secuencias y sus propiedades físico-químicas?**\n",
    "\n",
    "## Instalación de ACCPPS"
   ]
  },
  {
   "cell_type": "code",
   "execution_count": 1,
   "id": "159f77a2-1911-42a2-a7c4-f3155a791e01",
   "metadata": {},
   "outputs": [],
   "source": [
    "## Instalación de ACCPPS\n",
    "\n",
    "import accpps"
   ]
  },
  {
   "cell_type": "code",
   "execution_count": 2,
   "id": "53337c6c-da5f-4819-8afd-0717f1552fdf",
   "metadata": {},
   "outputs": [
    {
     "data": {
      "text/plain": [
       "1281"
      ]
     },
     "execution_count": 2,
     "metadata": {},
     "output_type": "execute_result"
    }
   ],
   "source": [
    "len(accpps.acps)"
   ]
  },
  {
   "cell_type": "code",
   "execution_count": 3,
   "id": "eb6eeb8e-edf6-4493-a066-802916a722ac",
   "metadata": {},
   "outputs": [
    {
     "data": {
      "text/plain": [
       "6661"
      ]
     },
     "execution_count": 3,
     "metadata": {},
     "output_type": "execute_result"
    }
   ],
   "source": [
    "len(accpps.non_acps)"
   ]
  },
  {
   "cell_type": "code",
   "execution_count": 4,
   "id": "cdbeb79c-83c2-4c98-bfda-704b968c11cf",
   "metadata": {},
   "outputs": [
    {
     "data": {
      "text/plain": [
       "1582"
      ]
     },
     "execution_count": 4,
     "metadata": {},
     "output_type": "execute_result"
    }
   ],
   "source": [
    "len(accpps.cpps)"
   ]
  },
  {
   "cell_type": "code",
   "execution_count": 5,
   "id": "6ce88724-48ba-4686-be5a-6b5b2b9fa07f",
   "metadata": {},
   "outputs": [
    {
     "data": {
      "text/plain": [
       "4369"
      ]
     },
     "execution_count": 5,
     "metadata": {},
     "output_type": "execute_result"
    }
   ],
   "source": [
    "len(accpps.non_cpps)"
   ]
  },
  {
   "cell_type": "code",
   "execution_count": 6,
   "id": "805d40fe-d14c-4682-930b-dff32a189d13",
   "metadata": {},
   "outputs": [],
   "source": [
    "sequence = \"ACDEFGHIKLMNPQRSTVWY\""
   ]
  },
  {
   "cell_type": "code",
   "execution_count": 7,
   "id": "62de4b89-d66e-47a1-a16c-0ff573859bc2",
   "metadata": {},
   "outputs": [],
   "source": [
    "features = accpps.get_features(sequence)"
   ]
  },
  {
   "cell_type": "code",
   "execution_count": 8,
   "id": "d159b83f-dec8-4888-937f-6d31382826ff",
   "metadata": {},
   "outputs": [
    {
     "data": {
      "text/plain": [
       "11097"
      ]
     },
     "execution_count": 8,
     "metadata": {},
     "output_type": "execute_result"
    }
   ],
   "source": [
    "len(features)"
   ]
  },
  {
   "cell_type": "code",
   "execution_count": null,
   "id": "2c4dbcc0-f4a2-417a-ae99-5553c9e52a5b",
   "metadata": {},
   "outputs": [],
   "source": [
    "for ii in tqdm(accpps.non_acps):\n",
    "    if len(ii)>4:\n",
    "        features = accpps.get_features(ii)"
   ]
  },
  {
   "cell_type": "code",
   "execution_count": null,
   "id": "57efe52a-21a1-4a50-a53e-4a567416be89",
   "metadata": {},
   "outputs": [],
   "source": []
  }
 ],
 "metadata": {
  "kernelspec": {
   "display_name": "Python 3 (ipykernel)",
   "language": "python",
   "name": "python3"
  },
  "language_info": {
   "codemirror_mode": {
    "name": "ipython",
    "version": 3
   },
   "file_extension": ".py",
   "mimetype": "text/x-python",
   "name": "python",
   "nbconvert_exporter": "python",
   "pygments_lexer": "ipython3",
   "version": "3.12.8"
  }
 },
 "nbformat": 4,
 "nbformat_minor": 5
}
