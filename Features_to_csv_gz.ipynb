{
 "cells": [
  {
   "cell_type": "code",
   "execution_count": 1,
   "id": "75c3d153-a548-4e78-b99b-49b094e0eee8",
   "metadata": {},
   "outputs": [],
   "source": [
    "import accpps\n",
    "from tqdm import tqdm\n",
    "import csv\n",
    "import gzip"
   ]
  },
  {
   "cell_type": "code",
   "execution_count": 2,
   "id": "583796d1-f793-4b7e-9e25-7e597f094b3f",
   "metadata": {},
   "outputs": [
    {
     "name": "stderr",
     "output_type": "stream",
     "text": [
      " 61%|███████████████████████████████████▊                       | 2653/4369 [03:23<01:40, 17.14it/s]"
     ]
    },
    {
     "name": "stdout",
     "output_type": "stream",
     "text": [
      "error with MFVAQAVLQFLCLKNKNGASVVXSTYTEKHPSIEK\n"
     ]
    },
    {
     "name": "stderr",
     "output_type": "stream",
     "text": [
      "100%|███████████████████████████████████████████████████████████| 4369/4369 [05:31<00:00, 13.20it/s]\n"
     ]
    }
   ],
   "source": [
    "first_line=True\n",
    "\n",
    "with gzip.open('features_non_cpps.csv.gz', \"wt\", newline='', encoding=\"utf-8\") as f:\n",
    "    writer = csv.writer(f)\n",
    "    for seq in tqdm(accpps.non_cpps):\n",
    "        if len(seq)>4:\n",
    "            try:\n",
    "                features=accpps.get_features(seq)\n",
    "                if first_line:\n",
    "                    first_line=False\n",
    "                    header = [\"sequence\"]\n",
    "                    for ii,jj in features.items():\n",
    "                        header += [ii]\n",
    "                    writer.writerow(header)\n",
    "                line = [seq]\n",
    "                for ii,jj in features.items():\n",
    "                    line += [jj]\n",
    "                writer.writerow(line)\n",
    "            except:\n",
    "                print(f'error with {seq}')"
   ]
  },
  {
   "cell_type": "code",
   "execution_count": 3,
   "id": "dacbcdb7-19e4-437c-b1c1-c499ce7fc15c",
   "metadata": {},
   "outputs": [],
   "source": [
    "import pandas as pd\n",
    "\n",
    "df = pd.read_csv(\"features_non_cpps.csv.gz\", compression=\"gzip\")"
   ]
  },
  {
   "cell_type": "code",
   "execution_count": 4,
   "id": "24d6872e-7fa5-4f01-b0c7-48c4a4df35ba",
   "metadata": {},
   "outputs": [
    {
     "name": "stdout",
     "output_type": "stream",
     "text": [
      "<class 'pandas.core.frame.DataFrame'>\n",
      "RangeIndex: 4368 entries, 0 to 4367\n",
      "Columns: 11097 entries, sequence to GRAVY\n",
      "dtypes: float64(11090), int64(6), object(1)\n",
      "memory usage: 369.8+ MB\n"
     ]
    }
   ],
   "source": [
    "df.info()"
   ]
  },
  {
   "cell_type": "code",
   "execution_count": null,
   "id": "d67c3f2f-3e00-4bf9-9bbb-8800c10827fc",
   "metadata": {},
   "outputs": [],
   "source": [
    "df.head()"
   ]
  },
  {
   "cell_type": "code",
   "execution_count": null,
   "id": "436d1775-cb4a-441d-9a22-89b0ab61a95c",
   "metadata": {},
   "outputs": [],
   "source": []
  }
 ],
 "metadata": {
  "kernelspec": {
   "display_name": "Python 3 (ipykernel)",
   "language": "python",
   "name": "python3"
  },
  "language_info": {
   "codemirror_mode": {
    "name": "ipython",
    "version": 3
   },
   "file_extension": ".py",
   "mimetype": "text/x-python",
   "name": "python",
   "nbconvert_exporter": "python",
   "pygments_lexer": "ipython3",
   "version": "3.12.8"
  }
 },
 "nbformat": 4,
 "nbformat_minor": 5
}
